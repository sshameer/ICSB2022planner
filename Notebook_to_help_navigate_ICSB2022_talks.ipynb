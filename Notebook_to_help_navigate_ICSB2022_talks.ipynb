{
 "cells": [
  {
   "cell_type": "markdown",
   "metadata": {},
   "source": [
    "## Instructions\n",
    "### - Specify your preference\n",
    "### - Set the talk title you would start from  \n",
    "### - Run all using the >> icon"
   ]
  },
  {
   "cell_type": "code",
   "execution_count": 1,
   "metadata": {},
   "outputs": [],
   "source": [
    "preferences = {\"Regulation of Mammalian Iron Physiology Across Scales \":100,\n",
    "               \"Inferring individual interactions in gene regulatory networks with delays from time-series experiment\": 80, \n",
    "               \"Boolean dynamic modeling of TNFR1 signaling predicts a nested feedbackloop regulating the apoptotic response at single-cell level\":50,\n",
    "               \"Multi-scale modeling of B-cell fate decisions required for antibody generation\": 90,\n",
    "               'Session 1: TUMOR ECOSYSTEMS':0,\n",
    "               'Session 2: IMAGING ALGORITHMS':0,\n",
    "               'Session 3: SINGLE CELL MODELING':0,\n",
    "               'Session 4: CLIMATE, BIOTOPES & MICROBIOMES':0,\n",
    "               'Session 5: DEEP HIDDEN PHYSICS':0,\n",
    "               'Session 6: MODELS IN SPACE AND TIME':100,\n",
    "               'Session 7: PREVENTING FUTURE PANDEMICS':0,\n",
    "               'Session 8: YOUNG SCIENTIST FORUM':0,\n",
    "               'Session 9: SIGNAL TRANSDUCTION':0,\n",
    "               'Session 10: COMPUTATIONAL PATHOLOGY':0,\n",
    "               'Session 11: CAREER FORUM':0,\n",
    "               'Session 12: CHEMICAL & GENETIC SYSTEMS BIOLOGY':0,\n",
    "               'Session 13: INTEGRATION OF COMPUTATIONAL APPROACHES':0,\n",
    "               'Session 14: WHOLE CELL MODELING':0,\n",
    "               'Session 15: CANCER SYSTEMS BIOLOGY':0,\n",
    "               'Session 16: MULTISCALE MODELS':100,\n",
    "               'Session 17A: WILDCARDS *.* [Part I]':0,\n",
    "               'Session 17B: WILDCARDS *.* [Part II]':0,\n",
    "               'Session 18: CLINICAL IMPACT AND CHALLENGES OF SYSTEMS BIOLOGY':0,\n",
    "               'Session 19: MACHINE LEARNING / ARTIFICIAL INTELLIGENCE':100,\n",
    "               'Session 20: PLANT SYSTEMS BIOLOGY':200,\n",
    "               'Session 21: NETWORK BIOLOGY & PRECISION MEDICINE':0}\n",
    "\n",
    "#starting point for 9th\n",
    "starting_point = \"Inferring kinase activity of a tumor from phosphoproteomic data\"  \n",
    "#starting point for 10th\n",
    "#starting_point = \"The metabolic and proteomic landscape of genome-scale genetic perturbation\" \n",
    "#starting point for 11th\n",
    "#starting_point = \"Integrating cellular and physiologically-based pharmacokinetic (PBPK) modelling\"   \n",
    "#starting point for 12th\n",
    "#starting_point = \"Modelling of Pharmacokinetics and Pharmacodynamics for first-in-man dose selectionof targeted alpha therapy\"   "
   ]
  },
  {
   "cell_type": "code",
   "execution_count": 2,
   "metadata": {},
   "outputs": [
    {
     "name": "stdout",
     "output_type": "stream",
     "text": [
      "You start in Session 1: TUMOR ECOSYSTEMS\n",
      "Move to Session 3: SINGLE CELL MODELING by 10:50 for talk titled \" How do single bacterial cells make decisions?\"\n",
      "You end in Session 3: SINGLE CELL MODELING\n"
     ]
    }
   ],
   "source": [
    "from conferencePlanner import *\n",
    "talkList = createFromICSBFile(\"./ICSB2022ParallelSessions.txt\")\n",
    "graph = generateGraph(talkList)\n",
    "weighted_graph = addgraphWeightings(graph,talkList,preferences,moving_penalty=-10)\n",
    "path = calculatePath(weighted_graph,talkList,starting_point)\n",
    "generateInstructions(path,talkList)"
   ]
  },
  {
   "cell_type": "code",
   "execution_count": 4,
   "metadata": {},
   "outputs": [
    {
     "ename": "NameError",
     "evalue": "name 'python' is not defined",
     "output_type": "error",
     "traceback": [
      "\u001b[1;31m---------------------------------------------------------------------------\u001b[0m",
      "\u001b[1;31mNameError\u001b[0m                                 Traceback (most recent call last)",
      "\u001b[1;32m<ipython-input-4-a4637bbefc43>\u001b[0m in \u001b[0;36m<module>\u001b[1;34m\u001b[0m\n\u001b[1;32m----> 1\u001b[1;33m \u001b[0mpython\u001b[0m \u001b[1;33m-\u001b[0m\u001b[1;33m-\u001b[0m\u001b[0mversion\u001b[0m\u001b[1;33m\u001b[0m\u001b[1;33m\u001b[0m\u001b[0m\n\u001b[0m",
      "\u001b[1;31mNameError\u001b[0m: name 'python' is not defined"
     ]
    }
   ],
   "source": [
    "\n"
   ]
  },
  {
   "cell_type": "code",
   "execution_count": null,
   "metadata": {},
   "outputs": [],
   "source": []
  }
 ],
 "metadata": {
  "kernelspec": {
   "display_name": "Python 3",
   "language": "python",
   "name": "python3"
  },
  "language_info": {
   "codemirror_mode": {
    "name": "ipython",
    "version": 3
   },
   "file_extension": ".py",
   "mimetype": "text/x-python",
   "name": "python",
   "nbconvert_exporter": "python",
   "pygments_lexer": "ipython3",
   "version": "3.8.3"
  }
 },
 "nbformat": 4,
 "nbformat_minor": 4
}
